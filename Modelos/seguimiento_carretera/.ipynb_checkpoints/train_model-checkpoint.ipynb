{
 "cells": [
  {
   "cell_type": "markdown",
   "metadata": {
    "id": "CjSpF6NXTw5W"
   },
   "source": [
    "# Entrenamiento de los datos para seguimiento de carretera - **Anthony**\n",
    "---\n",
    "Para realizar el entrenamiento de la red neuronal para el seguimiento, se tomará el set de datos precapturado en el notebook data_collection. Para esto se utilizará pythorch y una red ya pre entrenada de resnet-18."
   ]
  },
  {
   "cell_type": "markdown",
   "metadata": {
    "id": "_hYBcWlaUK-6"
   },
   "source": [
    "# Importaciones necesarias"
   ]
  },
  {
   "cell_type": "code",
   "execution_count": 1,
   "metadata": {
    "id": "IzqxDDwESmxu"
   },
   "outputs": [],
   "source": [
    "import torch\n",
    "import torch.optim as optim\n",
    "import torch.nn.functional as F\n",
    "import torchvision\n",
    "import torchvision.datasets as datasets\n",
    "import torchvision.models as models\n",
    "import torchvision.transforms as transforms\n",
    "import glob\n",
    "import PIL.Image\n",
    "import os\n",
    "import numpy as np"
   ]
  },
  {
   "cell_type": "code",
   "execution_count": null,
   "metadata": {
    "id": "iTHLpDsrUmxH"
   },
   "outputs": [],
   "source": []
  },
  {
   "cell_type": "markdown",
   "metadata": {
    "id": "azhQvE20UVXl"
   },
   "source": [
    "# Instancias del dataset\n",
    "\n",
    "---\n",
    "\n",
    "En esta parte del código conseguimos los valores de \"x\" y \"y\" del label del nombre de la imagen. Además aplicamos algunas transformaciones de las imágenes como color jitter, hacemos horizontal flips en caso de querer seguir un camino que no sea recto, entonces toma algunas imágenes un poco torcidas."
   ]
  },
  {
   "cell_type": "code",
   "execution_count": 2,
   "metadata": {
    "id": "jZHrgoGKUvTW"
   },
   "outputs": [],
   "source": [
    "def get_x(path):\n",
    "    \"\"\"Gets the x value from the image filename\"\"\"\n",
    "    return (float(int(path[3:6])) - 50.0) / 50.0\n",
    "\n",
    "\n",
    "def get_y(path):\n",
    "    \"\"\"Gets the y value from the image filename\"\"\"\n",
    "    return (float(int(path[7:10])) - 50.0) / 50.0\n",
    "\n",
    "class XYDataset(torch.utils.data.Dataset):\n",
    "    \n",
    "    def __init__(self, directory, random_hflips=False):\n",
    "        self.directory = directory\n",
    "        self.random_hflips = random_hflips\n",
    "        self.image_paths = glob.glob(os.path.join(self.directory, '*.jpg'))\n",
    "        self.color_jitter = transforms.ColorJitter(0.3, 0.3, 0.3, 0.3)\n",
    "    \n",
    "    def __len__(self):\n",
    "        return len(self.image_paths)\n",
    "    \n",
    "    def __getitem__(self, idx):\n",
    "        image_path = self.image_paths[idx]\n",
    "        \n",
    "        image = PIL.Image.open(image_path)\n",
    "        x = float(get_x(os.path.basename(image_path)))\n",
    "        y = float(get_y(os.path.basename(image_path)))\n",
    "        \n",
    "        if float(np.random.rand(1)) > 0.5:\n",
    "            image = transforms.functional.hflip(image)\n",
    "            x = -x\n",
    "        \n",
    "        image = self.color_jitter(image)\n",
    "        image = transforms.functional.resize(image, (224, 224))\n",
    "        image = transforms.functional.to_tensor(image)\n",
    "        image = image.numpy()[::-1].copy()\n",
    "        image = torch.from_numpy(image)\n",
    "        image = transforms.functional.normalize(image, [0.485, 0.456, 0.406], [0.229, 0.224, 0.225])\n",
    "        \n",
    "        return image, torch.tensor([x, y]).float()\n",
    "    \n",
    "dataset = XYDataset('dataset', random_hflips=False)"
   ]
  },
  {
   "cell_type": "markdown",
   "metadata": {
    "id": "eODrzcQ1U3eb"
   },
   "source": [
    "# Dividir el dataset\n",
    "\n",
    "---\n",
    "\n",
    "Se divide el dataset en train y test. En este caso 90% destinado para entrenamiento y 10% para prueba."
   ]
  },
  {
   "cell_type": "code",
   "execution_count": 3,
   "metadata": {
    "id": "Tdb1hRSGVGND"
   },
   "outputs": [
    {
     "name": "stdout",
     "output_type": "stream",
     "text": [
      "711\n",
      "711\n"
     ]
    }
   ],
   "source": [
    "print(len(dataset))\n",
    "print(dataset.__len__())"
   ]
  },
  {
   "cell_type": "code",
   "execution_count": 4,
   "metadata": {},
   "outputs": [
    {
     "name": "stdout",
     "output_type": "stream",
     "text": [
      "71\n"
     ]
    }
   ],
   "source": [
    "test_percent = 0.1\n",
    "num_test = int(test_percent * len(dataset))\n",
    "print(num_test)\n",
    "train_dataset, test_dataset = torch.utils.data.random_split(dataset, [len(dataset) - num_test, num_test])"
   ]
  },
  {
   "cell_type": "code",
   "execution_count": 5,
   "metadata": {},
   "outputs": [
    {
     "name": "stdout",
     "output_type": "stream",
     "text": [
      "640\n",
      "71\n"
     ]
    }
   ],
   "source": [
    "print(len(train_dataset))\n",
    "print(len(test_dataset))"
   ]
  },
  {
   "cell_type": "markdown",
   "metadata": {
    "id": "aVR9WVgrVLla"
   },
   "source": [
    "# Creación de los data loaders y batch size\n",
    "\n",
    "---\n",
    "\n",
    "Usamos la clase ``DataLoader`` para cargar los datos en los batches, además de que permitimos hacer shuffle para que las imágenes se tomen aleatoriamente."
   ]
  },
  {
   "cell_type": "code",
   "execution_count": 6,
   "metadata": {
    "id": "wZIz8yKVVhOW"
   },
   "outputs": [],
   "source": [
    "train_loader = torch.utils.data.DataLoader(\n",
    "    train_dataset,\n",
    "    batch_size=16,\n",
    "    shuffle=True,\n",
    "    num_workers=4\n",
    ")\n",
    "\n",
    "test_loader = torch.utils.data.DataLoader(\n",
    "    test_dataset,\n",
    "    batch_size=16,\n",
    "    shuffle=True,\n",
    "    num_workers=4\n",
    ")"
   ]
  },
  {
   "cell_type": "markdown",
   "metadata": {
    "id": "RPOXiBC3VnSf"
   },
   "source": [
    "# Definir la red neuronal\n",
    "\n",
    "---\n",
    "\n",
    "Utilizando ResNet-18, se crea el modelo ya pre-entrado."
   ]
  },
  {
   "cell_type": "code",
   "execution_count": 7,
   "metadata": {
    "id": "0cQHkXNQY_g9"
   },
   "outputs": [],
   "source": [
    "model = models.resnet18(pretrained=True)"
   ]
  },
  {
   "cell_type": "code",
   "execution_count": 8,
   "metadata": {
    "id": "uoZt-V7aZBOA"
   },
   "outputs": [],
   "source": [
    "model.fc = torch.nn.Linear(512, 2)\n",
    "device = torch.device('cuda')\n",
    "model = model.to(device)"
   ]
  },
  {
   "cell_type": "markdown",
   "metadata": {
    "id": "-QRgPcDVZ_tC"
   },
   "source": [
    "# Entrenamiento\n",
    "\n",
    "---\n",
    "\n",
    "Se entrena por 150 épocas, que fue el número de épocas que mostró mejor resultado."
   ]
  },
  {
   "cell_type": "code",
   "execution_count": 9,
   "metadata": {
    "id": "6Z71IxgoZNvZ"
   },
   "outputs": [
    {
     "name": "stdout",
     "output_type": "stream",
     "text": [
      "Época: 0.000000 - ( TrainAccuracy: 0.684638, TrainLoss: 0.315362 ) - ( TestAccuracy: 0.858006, TestLoss: 0.141994 )\n",
      "Época: 1.000000 - ( TrainAccuracy: 0.961070, TrainLoss: 0.038930 ) - ( TestAccuracy: 0.983156, TestLoss: 0.016844 )\n",
      "Época: 2.000000 - ( TrainAccuracy: 0.968444, TrainLoss: 0.031556 ) - ( TestAccuracy: 0.977663, TestLoss: 0.022337 )\n",
      "Época: 3.000000 - ( TrainAccuracy: 0.968376, TrainLoss: 0.031624 ) - ( TestAccuracy: 0.956763, TestLoss: 0.043237 )\n",
      "Época: 4.000000 - ( TrainAccuracy: 0.977047, TrainLoss: 0.022953 ) - ( TestAccuracy: 0.986648, TestLoss: 0.013352 )\n",
      "Época: 5.000000 - ( TrainAccuracy: 0.975510, TrainLoss: 0.024490 ) - ( TestAccuracy: 0.986962, TestLoss: 0.013038 )\n",
      "Época: 6.000000 - ( TrainAccuracy: 0.983246, TrainLoss: 0.016754 ) - ( TestAccuracy: 0.985147, TestLoss: 0.014853 )\n",
      "Época: 7.000000 - ( TrainAccuracy: 0.976358, TrainLoss: 0.023642 ) - ( TestAccuracy: 0.984133, TestLoss: 0.015867 )\n",
      "Época: 8.000000 - ( TrainAccuracy: 0.986330, TrainLoss: 0.013670 ) - ( TestAccuracy: 0.983759, TestLoss: 0.016241 )\n",
      "Época: 9.000000 - ( TrainAccuracy: 0.986990, TrainLoss: 0.013010 ) - ( TestAccuracy: 0.991747, TestLoss: 0.008253 )\n",
      "Época: 10.000000 - ( TrainAccuracy: 0.987523, TrainLoss: 0.012477 ) - ( TestAccuracy: 0.988737, TestLoss: 0.011263 )\n",
      "Época: 11.000000 - ( TrainAccuracy: 0.989060, TrainLoss: 0.010940 ) - ( TestAccuracy: 0.991031, TestLoss: 0.008969 )\n",
      "Época: 12.000000 - ( TrainAccuracy: 0.989722, TrainLoss: 0.010278 ) - ( TestAccuracy: 0.984535, TestLoss: 0.015465 )\n",
      "Época: 13.000000 - ( TrainAccuracy: 0.986740, TrainLoss: 0.013260 ) - ( TestAccuracy: 0.985230, TestLoss: 0.014770 )\n",
      "Época: 14.000000 - ( TrainAccuracy: 0.990245, TrainLoss: 0.009755 ) - ( TestAccuracy: 0.985811, TestLoss: 0.014189 )\n",
      "Época: 15.000000 - ( TrainAccuracy: 0.991697, TrainLoss: 0.008303 ) - ( TestAccuracy: 0.986284, TestLoss: 0.013716 )\n",
      "Época: 16.000000 - ( TrainAccuracy: 0.991169, TrainLoss: 0.008831 ) - ( TestAccuracy: 0.986286, TestLoss: 0.013714 )\n",
      "Época: 17.000000 - ( TrainAccuracy: 0.992560, TrainLoss: 0.007440 ) - ( TestAccuracy: 0.990741, TestLoss: 0.009259 )\n",
      "Época: 18.000000 - ( TrainAccuracy: 0.994595, TrainLoss: 0.005405 ) - ( TestAccuracy: 0.992299, TestLoss: 0.007701 )\n",
      "Época: 19.000000 - ( TrainAccuracy: 0.990451, TrainLoss: 0.009549 ) - ( TestAccuracy: 0.993473, TestLoss: 0.006527 )\n",
      "Época: 20.000000 - ( TrainAccuracy: 0.994242, TrainLoss: 0.005758 ) - ( TestAccuracy: 0.991580, TestLoss: 0.008420 )\n",
      "Época: 21.000000 - ( TrainAccuracy: 0.993688, TrainLoss: 0.006312 ) - ( TestAccuracy: 0.993684, TestLoss: 0.006316 )\n",
      "Época: 22.000000 - ( TrainAccuracy: 0.994173, TrainLoss: 0.005827 ) - ( TestAccuracy: 0.990277, TestLoss: 0.009723 )\n",
      "Época: 23.000000 - ( TrainAccuracy: 0.995343, TrainLoss: 0.004657 ) - ( TestAccuracy: 0.992131, TestLoss: 0.007869 )\n",
      "Época: 24.000000 - ( TrainAccuracy: 0.995705, TrainLoss: 0.004295 ) - ( TestAccuracy: 0.991055, TestLoss: 0.008945 )\n",
      "Época: 25.000000 - ( TrainAccuracy: 0.995525, TrainLoss: 0.004475 ) - ( TestAccuracy: 0.987384, TestLoss: 0.012616 )\n",
      "Época: 26.000000 - ( TrainAccuracy: 0.995271, TrainLoss: 0.004729 ) - ( TestAccuracy: 0.991679, TestLoss: 0.008321 )\n",
      "Época: 27.000000 - ( TrainAccuracy: 0.993915, TrainLoss: 0.006085 ) - ( TestAccuracy: 0.989573, TestLoss: 0.010427 )\n",
      "Época: 28.000000 - ( TrainAccuracy: 0.993100, TrainLoss: 0.006900 ) - ( TestAccuracy: 0.991561, TestLoss: 0.008439 )\n",
      "Época: 29.000000 - ( TrainAccuracy: 0.995449, TrainLoss: 0.004551 ) - ( TestAccuracy: 0.991210, TestLoss: 0.008790 )\n",
      "Época: 30.000000 - ( TrainAccuracy: 0.994712, TrainLoss: 0.005288 ) - ( TestAccuracy: 0.989246, TestLoss: 0.010754 )\n",
      "Época: 31.000000 - ( TrainAccuracy: 0.995773, TrainLoss: 0.004227 ) - ( TestAccuracy: 0.990809, TestLoss: 0.009191 )\n",
      "Época: 32.000000 - ( TrainAccuracy: 0.996740, TrainLoss: 0.003260 ) - ( TestAccuracy: 0.992750, TestLoss: 0.007250 )\n",
      "Época: 33.000000 - ( TrainAccuracy: 0.996594, TrainLoss: 0.003406 ) - ( TestAccuracy: 0.991848, TestLoss: 0.008152 )\n",
      "Época: 34.000000 - ( TrainAccuracy: 0.994416, TrainLoss: 0.005584 ) - ( TestAccuracy: 0.989856, TestLoss: 0.010144 )\n",
      "Época: 35.000000 - ( TrainAccuracy: 0.996629, TrainLoss: 0.003371 ) - ( TestAccuracy: 0.994195, TestLoss: 0.005805 )\n",
      "Época: 36.000000 - ( TrainAccuracy: 0.996750, TrainLoss: 0.003250 ) - ( TestAccuracy: 0.993287, TestLoss: 0.006713 )\n",
      "Época: 37.000000 - ( TrainAccuracy: 0.996675, TrainLoss: 0.003325 ) - ( TestAccuracy: 0.994021, TestLoss: 0.005979 )\n",
      "Época: 38.000000 - ( TrainAccuracy: 0.996755, TrainLoss: 0.003245 ) - ( TestAccuracy: 0.989297, TestLoss: 0.010703 )\n",
      "Época: 39.000000 - ( TrainAccuracy: 0.996289, TrainLoss: 0.003711 ) - ( TestAccuracy: 0.991598, TestLoss: 0.008402 )\n",
      "Época: 40.000000 - ( TrainAccuracy: 0.996579, TrainLoss: 0.003421 ) - ( TestAccuracy: 0.992542, TestLoss: 0.007458 )\n",
      "Época: 41.000000 - ( TrainAccuracy: 0.997720, TrainLoss: 0.002280 ) - ( TestAccuracy: 0.992256, TestLoss: 0.007744 )\n",
      "Época: 42.000000 - ( TrainAccuracy: 0.996638, TrainLoss: 0.003362 ) - ( TestAccuracy: 0.993315, TestLoss: 0.006685 )\n",
      "Época: 43.000000 - ( TrainAccuracy: 0.997767, TrainLoss: 0.002233 ) - ( TestAccuracy: 0.989941, TestLoss: 0.010059 )\n",
      "Época: 44.000000 - ( TrainAccuracy: 0.996603, TrainLoss: 0.003397 ) - ( TestAccuracy: 0.991999, TestLoss: 0.008001 )\n",
      "Época: 45.000000 - ( TrainAccuracy: 0.997279, TrainLoss: 0.002721 ) - ( TestAccuracy: 0.992016, TestLoss: 0.007984 )\n",
      "Época: 46.000000 - ( TrainAccuracy: 0.996497, TrainLoss: 0.003503 ) - ( TestAccuracy: 0.992713, TestLoss: 0.007287 )\n",
      "Época: 47.000000 - ( TrainAccuracy: 0.996392, TrainLoss: 0.003608 ) - ( TestAccuracy: 0.992565, TestLoss: 0.007435 )\n",
      "Época: 48.000000 - ( TrainAccuracy: 0.997233, TrainLoss: 0.002767 ) - ( TestAccuracy: 0.992376, TestLoss: 0.007624 )\n",
      "Época: 49.000000 - ( TrainAccuracy: 0.997921, TrainLoss: 0.002079 ) - ( TestAccuracy: 0.993585, TestLoss: 0.006415 )\n",
      "Época: 50.000000 - ( TrainAccuracy: 0.996785, TrainLoss: 0.003215 ) - ( TestAccuracy: 0.992471, TestLoss: 0.007529 )\n",
      "Época: 51.000000 - ( TrainAccuracy: 0.997363, TrainLoss: 0.002637 ) - ( TestAccuracy: 0.993110, TestLoss: 0.006890 )\n",
      "Época: 52.000000 - ( TrainAccuracy: 0.997814, TrainLoss: 0.002186 ) - ( TestAccuracy: 0.992144, TestLoss: 0.007856 )\n",
      "Época: 53.000000 - ( TrainAccuracy: 0.996047, TrainLoss: 0.003953 ) - ( TestAccuracy: 0.989286, TestLoss: 0.010714 )\n",
      "Época: 54.000000 - ( TrainAccuracy: 0.997361, TrainLoss: 0.002639 ) - ( TestAccuracy: 0.992485, TestLoss: 0.007515 )\n",
      "Época: 55.000000 - ( TrainAccuracy: 0.997762, TrainLoss: 0.002238 ) - ( TestAccuracy: 0.994253, TestLoss: 0.005747 )\n",
      "Época: 56.000000 - ( TrainAccuracy: 0.997302, TrainLoss: 0.002698 ) - ( TestAccuracy: 0.993250, TestLoss: 0.006750 )\n",
      "Época: 57.000000 - ( TrainAccuracy: 0.996892, TrainLoss: 0.003108 ) - ( TestAccuracy: 0.994588, TestLoss: 0.005412 )\n",
      "Época: 58.000000 - ( TrainAccuracy: 0.997587, TrainLoss: 0.002413 ) - ( TestAccuracy: 0.990772, TestLoss: 0.009228 )\n",
      "Época: 59.000000 - ( TrainAccuracy: 0.997281, TrainLoss: 0.002719 ) - ( TestAccuracy: 0.995160, TestLoss: 0.004840 )\n",
      "Época: 60.000000 - ( TrainAccuracy: 0.997980, TrainLoss: 0.002020 ) - ( TestAccuracy: 0.991611, TestLoss: 0.008389 )\n",
      "Época: 61.000000 - ( TrainAccuracy: 0.996997, TrainLoss: 0.003003 ) - ( TestAccuracy: 0.993634, TestLoss: 0.006366 )\n",
      "Época: 62.000000 - ( TrainAccuracy: 0.996654, TrainLoss: 0.003346 ) - ( TestAccuracy: 0.991475, TestLoss: 0.008525 )\n",
      "Época: 63.000000 - ( TrainAccuracy: 0.997580, TrainLoss: 0.002420 ) - ( TestAccuracy: 0.993253, TestLoss: 0.006747 )\n",
      "Época: 64.000000 - ( TrainAccuracy: 0.997771, TrainLoss: 0.002229 ) - ( TestAccuracy: 0.991214, TestLoss: 0.008786 )\n",
      "Época: 65.000000 - ( TrainAccuracy: 0.997718, TrainLoss: 0.002282 ) - ( TestAccuracy: 0.992924, TestLoss: 0.007076 )\n",
      "Época: 66.000000 - ( TrainAccuracy: 0.996208, TrainLoss: 0.003792 ) - ( TestAccuracy: 0.989141, TestLoss: 0.010859 )\n",
      "Época: 67.000000 - ( TrainAccuracy: 0.997786, TrainLoss: 0.002214 ) - ( TestAccuracy: 0.993898, TestLoss: 0.006102 )\n",
      "Época: 68.000000 - ( TrainAccuracy: 0.997369, TrainLoss: 0.002631 ) - ( TestAccuracy: 0.993410, TestLoss: 0.006590 )\n",
      "Época: 69.000000 - ( TrainAccuracy: 0.997404, TrainLoss: 0.002596 ) - ( TestAccuracy: 0.992441, TestLoss: 0.007559 )\n",
      "Época: 70.000000 - ( TrainAccuracy: 0.997280, TrainLoss: 0.002720 ) - ( TestAccuracy: 0.994017, TestLoss: 0.005983 )\n",
      "Época: 71.000000 - ( TrainAccuracy: 0.998394, TrainLoss: 0.001606 ) - ( TestAccuracy: 0.994544, TestLoss: 0.005456 )\n",
      "Época: 72.000000 - ( TrainAccuracy: 0.997948, TrainLoss: 0.002052 ) - ( TestAccuracy: 0.989360, TestLoss: 0.010640 )\n",
      "Época: 73.000000 - ( TrainAccuracy: 0.998054, TrainLoss: 0.001946 ) - ( TestAccuracy: 0.994108, TestLoss: 0.005892 )\n",
      "Época: 74.000000 - ( TrainAccuracy: 0.997237, TrainLoss: 0.002763 ) - ( TestAccuracy: 0.991185, TestLoss: 0.008815 )\n",
      "Época: 75.000000 - ( TrainAccuracy: 0.997951, TrainLoss: 0.002049 ) - ( TestAccuracy: 0.994719, TestLoss: 0.005281 )\n",
      "Época: 76.000000 - ( TrainAccuracy: 0.997763, TrainLoss: 0.002237 ) - ( TestAccuracy: 0.994170, TestLoss: 0.005830 )\n",
      "Época: 77.000000 - ( TrainAccuracy: 0.998186, TrainLoss: 0.001814 ) - ( TestAccuracy: 0.994769, TestLoss: 0.005231 )\n",
      "Época: 78.000000 - ( TrainAccuracy: 0.998584, TrainLoss: 0.001416 ) - ( TestAccuracy: 0.993441, TestLoss: 0.006559 )\n",
      "Época: 79.000000 - ( TrainAccuracy: 0.997677, TrainLoss: 0.002323 ) - ( TestAccuracy: 0.990318, TestLoss: 0.009682 )\n",
      "Época: 80.000000 - ( TrainAccuracy: 0.998128, TrainLoss: 0.001872 ) - ( TestAccuracy: 0.993346, TestLoss: 0.006654 )\n",
      "Época: 81.000000 - ( TrainAccuracy: 0.996286, TrainLoss: 0.003714 ) - ( TestAccuracy: 0.991639, TestLoss: 0.008361 )\n",
      "Época: 82.000000 - ( TrainAccuracy: 0.997192, TrainLoss: 0.002808 ) - ( TestAccuracy: 0.987428, TestLoss: 0.012572 )\n",
      "Época: 83.000000 - ( TrainAccuracy: 0.995364, TrainLoss: 0.004636 ) - ( TestAccuracy: 0.991692, TestLoss: 0.008308 )\n",
      "Época: 84.000000 - ( TrainAccuracy: 0.997916, TrainLoss: 0.002084 ) - ( TestAccuracy: 0.990644, TestLoss: 0.009356 )\n",
      "Época: 85.000000 - ( TrainAccuracy: 0.998642, TrainLoss: 0.001358 ) - ( TestAccuracy: 0.993993, TestLoss: 0.006007 )\n",
      "Época: 86.000000 - ( TrainAccuracy: 0.997970, TrainLoss: 0.002030 ) - ( TestAccuracy: 0.994899, TestLoss: 0.005101 )\n",
      "Época: 87.000000 - ( TrainAccuracy: 0.998649, TrainLoss: 0.001351 ) - ( TestAccuracy: 0.993059, TestLoss: 0.006941 )\n",
      "Época: 88.000000 - ( TrainAccuracy: 0.997874, TrainLoss: 0.002126 ) - ( TestAccuracy: 0.991440, TestLoss: 0.008560 )\n",
      "Época: 89.000000 - ( TrainAccuracy: 0.997499, TrainLoss: 0.002501 ) - ( TestAccuracy: 0.989076, TestLoss: 0.010924 )\n",
      "Época: 90.000000 - ( TrainAccuracy: 0.997606, TrainLoss: 0.002394 ) - ( TestAccuracy: 0.993838, TestLoss: 0.006162 )\n",
      "Época: 91.000000 - ( TrainAccuracy: 0.998018, TrainLoss: 0.001982 ) - ( TestAccuracy: 0.992509, TestLoss: 0.007491 )\n",
      "Época: 92.000000 - ( TrainAccuracy: 0.997462, TrainLoss: 0.002538 ) - ( TestAccuracy: 0.993590, TestLoss: 0.006410 )\n",
      "Época: 93.000000 - ( TrainAccuracy: 0.997863, TrainLoss: 0.002137 ) - ( TestAccuracy: 0.995227, TestLoss: 0.004773 )\n",
      "Época: 94.000000 - ( TrainAccuracy: 0.998345, TrainLoss: 0.001655 ) - ( TestAccuracy: 0.993750, TestLoss: 0.006250 )\n",
      "Época: 95.000000 - ( TrainAccuracy: 0.997413, TrainLoss: 0.002587 ) - ( TestAccuracy: 0.994353, TestLoss: 0.005647 )\n",
      "Época: 96.000000 - ( TrainAccuracy: 0.998283, TrainLoss: 0.001717 ) - ( TestAccuracy: 0.993164, TestLoss: 0.006836 )\n",
      "Época: 97.000000 - ( TrainAccuracy: 0.997635, TrainLoss: 0.002365 ) - ( TestAccuracy: 0.992827, TestLoss: 0.007173 )\n",
      "Época: 98.000000 - ( TrainAccuracy: 0.998200, TrainLoss: 0.001800 ) - ( TestAccuracy: 0.993288, TestLoss: 0.006712 )\n",
      "Época: 99.000000 - ( TrainAccuracy: 0.998468, TrainLoss: 0.001532 ) - ( TestAccuracy: 0.993301, TestLoss: 0.006699 )\n",
      "Época: 100.000000 - ( TrainAccuracy: 0.998351, TrainLoss: 0.001649 ) - ( TestAccuracy: 0.992517, TestLoss: 0.007483 )\n",
      "Época: 101.000000 - ( TrainAccuracy: 0.998297, TrainLoss: 0.001703 ) - ( TestAccuracy: 0.993398, TestLoss: 0.006602 )\n",
      "Época: 102.000000 - ( TrainAccuracy: 0.998351, TrainLoss: 0.001649 ) - ( TestAccuracy: 0.994739, TestLoss: 0.005261 )\n",
      "Época: 103.000000 - ( TrainAccuracy: 0.997512, TrainLoss: 0.002488 ) - ( TestAccuracy: 0.992184, TestLoss: 0.007816 )\n",
      "Época: 104.000000 - ( TrainAccuracy: 0.996907, TrainLoss: 0.003093 ) - ( TestAccuracy: 0.993089, TestLoss: 0.006911 )\n",
      "Época: 105.000000 - ( TrainAccuracy: 0.996899, TrainLoss: 0.003101 ) - ( TestAccuracy: 0.954740, TestLoss: 0.045260 )\n",
      "Época: 106.000000 - ( TrainAccuracy: 0.986373, TrainLoss: 0.013627 ) - ( TestAccuracy: 0.955727, TestLoss: 0.044273 )\n",
      "Época: 107.000000 - ( TrainAccuracy: 0.975854, TrainLoss: 0.024146 ) - ( TestAccuracy: 0.932832, TestLoss: 0.067168 )\n",
      "Época: 108.000000 - ( TrainAccuracy: 0.968862, TrainLoss: 0.031138 ) - ( TestAccuracy: 0.976110, TestLoss: 0.023890 )\n",
      "Época: 109.000000 - ( TrainAccuracy: 0.975854, TrainLoss: 0.024146 ) - ( TestAccuracy: 0.980168, TestLoss: 0.019832 )\n",
      "Época: 110.000000 - ( TrainAccuracy: 0.977892, TrainLoss: 0.022108 ) - ( TestAccuracy: 0.989084, TestLoss: 0.010916 )\n",
      "Época: 111.000000 - ( TrainAccuracy: 0.981770, TrainLoss: 0.018230 ) - ( TestAccuracy: 0.992844, TestLoss: 0.007156 )\n",
      "Época: 112.000000 - ( TrainAccuracy: 0.992408, TrainLoss: 0.007592 ) - ( TestAccuracy: 0.991135, TestLoss: 0.008865 )\n",
      "Época: 113.000000 - ( TrainAccuracy: 0.995250, TrainLoss: 0.004750 ) - ( TestAccuracy: 0.993330, TestLoss: 0.006670 )\n",
      "Época: 114.000000 - ( TrainAccuracy: 0.995138, TrainLoss: 0.004862 ) - ( TestAccuracy: 0.990772, TestLoss: 0.009228 )\n",
      "Época: 115.000000 - ( TrainAccuracy: 0.996326, TrainLoss: 0.003674 ) - ( TestAccuracy: 0.990026, TestLoss: 0.009974 )\n",
      "Época: 116.000000 - ( TrainAccuracy: 0.996158, TrainLoss: 0.003842 ) - ( TestAccuracy: 0.992691, TestLoss: 0.007309 )\n",
      "Época: 117.000000 - ( TrainAccuracy: 0.997039, TrainLoss: 0.002961 ) - ( TestAccuracy: 0.993965, TestLoss: 0.006035 )\n",
      "Época: 118.000000 - ( TrainAccuracy: 0.997699, TrainLoss: 0.002301 ) - ( TestAccuracy: 0.993359, TestLoss: 0.006641 )\n",
      "Época: 119.000000 - ( TrainAccuracy: 0.998276, TrainLoss: 0.001724 ) - ( TestAccuracy: 0.994658, TestLoss: 0.005342 )\n",
      "Época: 120.000000 - ( TrainAccuracy: 0.998386, TrainLoss: 0.001614 ) - ( TestAccuracy: 0.994483, TestLoss: 0.005517 )\n",
      "Época: 121.000000 - ( TrainAccuracy: 0.998027, TrainLoss: 0.001973 ) - ( TestAccuracy: 0.994919, TestLoss: 0.005081 )\n",
      "Época: 122.000000 - ( TrainAccuracy: 0.998112, TrainLoss: 0.001888 ) - ( TestAccuracy: 0.992831, TestLoss: 0.007169 )\n",
      "Época: 123.000000 - ( TrainAccuracy: 0.997177, TrainLoss: 0.002823 ) - ( TestAccuracy: 0.990814, TestLoss: 0.009186 )\n",
      "Época: 124.000000 - ( TrainAccuracy: 0.997319, TrainLoss: 0.002681 ) - ( TestAccuracy: 0.993354, TestLoss: 0.006646 )\n",
      "Época: 125.000000 - ( TrainAccuracy: 0.997940, TrainLoss: 0.002060 ) - ( TestAccuracy: 0.993829, TestLoss: 0.006171 )\n",
      "Época: 126.000000 - ( TrainAccuracy: 0.998130, TrainLoss: 0.001870 ) - ( TestAccuracy: 0.993308, TestLoss: 0.006692 )\n",
      "Época: 127.000000 - ( TrainAccuracy: 0.998510, TrainLoss: 0.001490 ) - ( TestAccuracy: 0.993982, TestLoss: 0.006018 )\n",
      "Época: 128.000000 - ( TrainAccuracy: 0.998894, TrainLoss: 0.001106 ) - ( TestAccuracy: 0.994573, TestLoss: 0.005427 )\n",
      "Época: 129.000000 - ( TrainAccuracy: 0.998455, TrainLoss: 0.001545 ) - ( TestAccuracy: 0.994306, TestLoss: 0.005694 )\n",
      "Época: 130.000000 - ( TrainAccuracy: 0.998636, TrainLoss: 0.001364 ) - ( TestAccuracy: 0.992711, TestLoss: 0.007289 )\n",
      "Época: 131.000000 - ( TrainAccuracy: 0.998923, TrainLoss: 0.001077 ) - ( TestAccuracy: 0.993322, TestLoss: 0.006678 )\n",
      "Época: 132.000000 - ( TrainAccuracy: 0.998982, TrainLoss: 0.001018 ) - ( TestAccuracy: 0.993864, TestLoss: 0.006136 )\n",
      "Época: 133.000000 - ( TrainAccuracy: 0.999007, TrainLoss: 0.000993 ) - ( TestAccuracy: 0.994139, TestLoss: 0.005861 )\n",
      "Época: 134.000000 - ( TrainAccuracy: 0.998799, TrainLoss: 0.001201 ) - ( TestAccuracy: 0.994490, TestLoss: 0.005510 )\n",
      "Época: 135.000000 - ( TrainAccuracy: 0.998587, TrainLoss: 0.001413 ) - ( TestAccuracy: 0.994061, TestLoss: 0.005939 )\n",
      "Época: 136.000000 - ( TrainAccuracy: 0.998310, TrainLoss: 0.001690 ) - ( TestAccuracy: 0.993998, TestLoss: 0.006002 )\n",
      "Época: 137.000000 - ( TrainAccuracy: 0.998363, TrainLoss: 0.001637 ) - ( TestAccuracy: 0.994970, TestLoss: 0.005030 )\n",
      "Época: 138.000000 - ( TrainAccuracy: 0.999119, TrainLoss: 0.000881 ) - ( TestAccuracy: 0.995286, TestLoss: 0.004714 )\n",
      "Época: 139.000000 - ( TrainAccuracy: 0.998841, TrainLoss: 0.001159 ) - ( TestAccuracy: 0.992134, TestLoss: 0.007866 )\n",
      "Época: 140.000000 - ( TrainAccuracy: 0.998784, TrainLoss: 0.001216 ) - ( TestAccuracy: 0.994363, TestLoss: 0.005637 )\n",
      "Época: 141.000000 - ( TrainAccuracy: 0.998805, TrainLoss: 0.001195 ) - ( TestAccuracy: 0.994359, TestLoss: 0.005641 )\n",
      "Época: 142.000000 - ( TrainAccuracy: 0.998979, TrainLoss: 0.001021 ) - ( TestAccuracy: 0.994412, TestLoss: 0.005588 )\n",
      "Época: 143.000000 - ( TrainAccuracy: 0.999016, TrainLoss: 0.000984 ) - ( TestAccuracy: 0.994191, TestLoss: 0.005809 )\n",
      "Época: 144.000000 - ( TrainAccuracy: 0.999006, TrainLoss: 0.000994 ) - ( TestAccuracy: 0.994546, TestLoss: 0.005454 )\n",
      "Época: 145.000000 - ( TrainAccuracy: 0.998783, TrainLoss: 0.001217 ) - ( TestAccuracy: 0.993959, TestLoss: 0.006041 )\n",
      "Época: 146.000000 - ( TrainAccuracy: 0.998826, TrainLoss: 0.001174 ) - ( TestAccuracy: 0.994749, TestLoss: 0.005251 )\n",
      "Época: 147.000000 - ( TrainAccuracy: 0.998553, TrainLoss: 0.001447 ) - ( TestAccuracy: 0.993413, TestLoss: 0.006587 )\n",
      "Época: 148.000000 - ( TrainAccuracy: 0.999073, TrainLoss: 0.000927 ) - ( TestAccuracy: 0.995335, TestLoss: 0.004665 )\n",
      "Época: 149.000000 - ( TrainAccuracy: 0.998918, TrainLoss: 0.001082 ) - ( TestAccuracy: 0.994976, TestLoss: 0.005024 )\n"
     ]
    }
   ],
   "source": [
    "NUM_EPOCHS = 150\n",
    "BEST_MODEL_PATH = 'best_steering_model_xy.pth'\n",
    "best_loss = 1e9\n",
    "\n",
    "optimizer = optim.Adam(model.parameters())\n",
    "\n",
    "for epoch in range(NUM_EPOCHS):\n",
    "    model.train()\n",
    "    train_loss = 0.0\n",
    "    for images, labels in iter(train_loader):\n",
    "        images = images.to(device)\n",
    "        labels = labels.to(device)\n",
    "        optimizer.zero_grad()\n",
    "        outputs = model(images)\n",
    "        loss = F.mse_loss(outputs, labels)\n",
    "        train_loss += float(loss)\n",
    "        loss.backward()\n",
    "        optimizer.step()\n",
    "    train_loss /= len(train_loader)\n",
    "    \n",
    "    model.eval()\n",
    "    test_loss = 0.0\n",
    "    for images, labels in iter(test_loader):\n",
    "        images = images.to(device)\n",
    "        labels = labels.to(device)\n",
    "        outputs = model(images)\n",
    "        loss = F.mse_loss(outputs, labels)\n",
    "        test_loss += float(loss)\n",
    "    test_loss /= len(test_loader)\n",
    "    \n",
    "    print('Época: %f - ( TrainAccuracy: %f, TrainLoss: %f ) - ( TestAccuracy: %f, TestLoss: %f )' % (epoch, 1.0-train_loss, train_loss, 1.0-test_loss,test_loss))\n",
    "    if test_loss < best_loss:\n",
    "        torch.save(model.state_dict(), BEST_MODEL_PATH)\n",
    "        best_loss = test_loss"
   ]
  },
  {
   "cell_type": "code",
   "execution_count": 12,
   "metadata": {},
   "outputs": [
    {
     "name": "stdout",
     "output_type": "stream",
     "text": [
      "0.9953351861797273\n"
     ]
    }
   ],
   "source": [
    "print(1-best_loss)"
   ]
  }
 ],
 "metadata": {
  "colab": {
   "authorship_tag": "ABX9TyOo61Y9seskLu4Nz/CchRmD",
   "name": "train_model.ipynb",
   "provenance": []
  },
  "kernelspec": {
   "display_name": "Python 3",
   "language": "python",
   "name": "python3"
  },
  "language_info": {
   "codemirror_mode": {
    "name": "ipython",
    "version": 3
   },
   "file_extension": ".py",
   "mimetype": "text/x-python",
   "name": "python",
   "nbconvert_exporter": "python",
   "pygments_lexer": "ipython3",
   "version": "3.6.9"
  }
 },
 "nbformat": 4,
 "nbformat_minor": 4
}
