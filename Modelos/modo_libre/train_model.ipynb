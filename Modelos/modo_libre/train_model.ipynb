{
 "cells": [
  {
   "cell_type": "markdown",
   "metadata": {
    "id": "iNWOhL7u8DPc"
   },
   "source": [
    "# Entrenamiento de los datos para modo libre - **Anthony**\n",
    "---\n",
    "Para realizar el entrenamiento de la red neuronal para el modo libre, se tomará el set de datos precapturado en el notebook data_collection. Para esto se utilizará pythorch y una red ya pre entrenada de resnet-18.\n",
    "\n",
    "\n",
    "\n"
   ]
  },
  {
   "cell_type": "markdown",
   "metadata": {
    "id": "5LeRfG_lbayK"
   },
   "source": [
    "## Importaciones necesarias"
   ]
  },
  {
   "cell_type": "code",
   "execution_count": 1,
   "metadata": {
    "id": "W078x9vebAj0"
   },
   "outputs": [],
   "source": [
    "import torch\n",
    "import torch.optim as optim\n",
    "import torch.nn.functional as F\n",
    "import torchvision\n",
    "import torchvision.datasets as datasets\n",
    "import torchvision.models as models\n",
    "import torchvision.transforms as transforms"
   ]
  },
  {
   "cell_type": "markdown",
   "metadata": {
    "id": "FRqp4kkXbPA2"
   },
   "source": [
    "## Obtención del set de datos y divición en entrenamiento y test"
   ]
  },
  {
   "cell_type": "code",
   "execution_count": 2,
   "metadata": {
    "id": "oNhWobtabXsq"
   },
   "outputs": [],
   "source": [
    "dataset = datasets.ImageFolder(\n",
    "    'dataset',\n",
    "    transforms.Compose([\n",
    "        transforms.ColorJitter(0.1, 0.1, 0.1, 0.1),\n",
    "        transforms.Resize((224, 224)),\n",
    "        transforms.ToTensor(),\n",
    "        transforms.Normalize([0.485, 0.456, 0.406], [0.229, 0.224, 0.225])\n",
    "    ])\n",
    ")"
   ]
  },
  {
   "cell_type": "code",
   "execution_count": 3,
   "metadata": {
    "id": "Sm0xf_SAbvBQ"
   },
   "outputs": [],
   "source": [
    "train_dataset, test_dataset = torch.utils.data.random_split(dataset, [len(dataset) - 50, 50]) # 50 imágenes para test y el resto para entrenamiento"
   ]
  },
  {
   "cell_type": "code",
   "execution_count": 4,
   "metadata": {
    "id": "vMGfrxAfnqCy"
   },
   "outputs": [],
   "source": [
    "train_loader = torch.utils.data.DataLoader(\n",
    "    train_dataset,\n",
    "    batch_size=16,\n",
    "    shuffle=True,\n",
    "    num_workers=4\n",
    ")\n",
    "\n",
    "test_loader = torch.utils.data.DataLoader(\n",
    "    test_dataset,\n",
    "    batch_size=16,\n",
    "    shuffle=True,\n",
    "    num_workers=4\n",
    ")"
   ]
  },
  {
   "cell_type": "markdown",
   "metadata": {
    "id": "iT45Ke7jQYDk"
   },
   "source": [
    "## Definición del modelo\n",
    "\n",
    "---\n",
    "\n",
    "Utilizando ResNet-18 que es un modelo pre-entrenado en PyTorch TorchVision"
   ]
  },
  {
   "cell_type": "code",
   "execution_count": 5,
   "metadata": {
    "id": "5wwRdDaUQq9m"
   },
   "outputs": [],
   "source": [
    "model = models.resnet18(pretrained=True)"
   ]
  },
  {
   "cell_type": "code",
   "execution_count": 6,
   "metadata": {
    "id": "_U3FlLw6QtLq"
   },
   "outputs": [],
   "source": [
    "model.fc = torch.nn.Linear(512, 2)"
   ]
  },
  {
   "cell_type": "code",
   "execution_count": 7,
   "metadata": {
    "id": "DlLw9uBYQvq2"
   },
   "outputs": [],
   "source": [
    "device = torch.device('cuda')\n",
    "model = model.to(device)"
   ]
  },
  {
   "cell_type": "markdown",
   "metadata": {
    "id": "T5e3ml5wQxWK"
   },
   "source": [
    "## Entrenamiento del modelo\n",
    "\n",
    "---\n",
    "\n",
    "Se inicia el entrenamiento del modelo a 50 épocas. Se guarda la mejor presición del test."
   ]
  },
  {
   "cell_type": "code",
   "execution_count": 8,
   "metadata": {
    "id": "WJdTcIgzRiCy"
   },
   "outputs": [
    {
     "name": "stdout",
     "output_type": "stream",
     "text": [
      "0: 0.880000\n",
      "1: 0.940000\n",
      "2: 0.980000\n",
      "3: 0.940000\n",
      "4: 0.940000\n",
      "5: 0.940000\n",
      "6: 1.000000\n",
      "7: 0.940000\n",
      "8: 0.980000\n",
      "9: 0.980000\n",
      "10: 1.000000\n",
      "11: 0.960000\n",
      "12: 1.000000\n",
      "13: 0.960000\n",
      "14: 0.960000\n",
      "15: 0.960000\n",
      "16: 1.000000\n",
      "17: 0.980000\n",
      "18: 1.000000\n",
      "19: 1.000000\n",
      "20: 1.000000\n",
      "21: 0.940000\n",
      "22: 0.960000\n",
      "23: 1.000000\n",
      "24: 1.000000\n",
      "25: 1.000000\n",
      "26: 0.940000\n",
      "27: 0.980000\n",
      "28: 0.980000\n",
      "29: 0.980000\n",
      "30: 0.960000\n",
      "31: 0.980000\n",
      "32: 0.980000\n",
      "33: 0.960000\n",
      "34: 0.940000\n",
      "35: 0.960000\n",
      "36: 0.960000\n",
      "37: 0.980000\n",
      "38: 0.940000\n",
      "39: 0.980000\n",
      "40: 1.000000\n",
      "41: 0.980000\n",
      "42: 1.000000\n",
      "43: 0.960000\n",
      "44: 0.980000\n",
      "45: 0.960000\n",
      "46: 0.960000\n",
      "47: 1.000000\n",
      "48: 0.940000\n",
      "49: 0.960000\n",
      "El mejor accuracy fue: 1.0\n"
     ]
    }
   ],
   "source": [
    "NUM_EPOCHS = 50\n",
    "BEST_MODEL_PATH = 'best_model_resnet18.pth'\n",
    "best_accuracy = 0.0\n",
    "\n",
    "optimizer = optim.SGD(model.parameters(), lr=0.001, momentum=0.9)\n",
    "\n",
    "for epoch in range(NUM_EPOCHS):\n",
    "    \n",
    "    for images, labels in iter(train_loader):\n",
    "        images = images.to(device)\n",
    "        labels = labels.to(device)\n",
    "        optimizer.zero_grad()\n",
    "        outputs = model(images)\n",
    "        loss = F.cross_entropy(outputs, labels)\n",
    "        loss.backward()\n",
    "        optimizer.step()\n",
    "    \n",
    "    test_error_count = 0.0\n",
    "    for images, labels in iter(test_loader):\n",
    "        images = images.to(device)\n",
    "        labels = labels.to(device)\n",
    "        outputs = model(images)\n",
    "        test_error_count += float(torch.sum(torch.abs(labels - outputs.argmax(1))))\n",
    "    \n",
    "    test_accuracy = 1.0 - float(test_error_count) / float(len(test_dataset))\n",
    "    print('%d: %f' % (epoch, test_accuracy))\n",
    "    if test_accuracy > best_accuracy:\n",
    "        torch.save(model.state_dict(), BEST_MODEL_PATH)\n",
    "        best_accuracy = test_accuracy\n",
    "\n",
    "print(f\"El mejor accuracy fue: {best_accuracy}\")"
   ]
  },
  {
   "cell_type": "code",
   "execution_count": null,
   "metadata": {},
   "outputs": [],
   "source": []
  }
 ],
 "metadata": {
  "colab": {
   "authorship_tag": "ABX9TyM1oXsS2Q+n66AmX6K/Er6Z",
   "name": "train_model.ipynb",
   "provenance": []
  },
  "kernelspec": {
   "display_name": "Python 3",
   "language": "python",
   "name": "python3"
  },
  "language_info": {
   "codemirror_mode": {
    "name": "ipython",
    "version": 3
   },
   "file_extension": ".py",
   "mimetype": "text/x-python",
   "name": "python",
   "nbconvert_exporter": "python",
   "pygments_lexer": "ipython3",
   "version": "3.6.9"
  }
 },
 "nbformat": 4,
 "nbformat_minor": 4
}
