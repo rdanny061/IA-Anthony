{
 "cells": [
  {
   "cell_type": "markdown",
   "metadata": {
    "id": "iNWOhL7u8DPc"
   },
   "source": [
    "# Colección de datos para modo libre - **Anthony**\n",
    "---\n",
    "La idea es que Anthony pueda circular libremente por un espacio X, donde este esté atento a objetos en el camino y poderlos evitar. La idea es que el robot gire en su propio eje hasta que encuentre un lugar seguro para caminar, esto ayuda a que no tenga un choque al dar la vuelta del primer objeto localizado.\n",
    "\n",
    "Por lo tanto, se requiere capturar información que le permita a Anthony tener conocimiendo de donde puede avanzar y donde no.\n",
    "Se tomarán fotos desde la cámara del robot para ayudarlo con su entrenamiento, primero captando lugares donde este no puede transitar, seguidamente de donde puede.\n",
    "\n",
    "\n",
    "\n"
   ]
  },
  {
   "cell_type": "markdown",
   "metadata": {
    "id": "edk9RETJ936_"
   },
   "source": [
    "# Transmisión en vivo desde la cámara de Anthony\n",
    "---\n",
    "Se inicia la cámara y se visualiza en el notebook. Se requiere por temas de costo de recursos, minimizar el tamaño de las imágenes o moldear la cámara para que tome las fotos en un tamaño de 224x224."
   ]
  },
  {
   "cell_type": "code",
   "execution_count": 1,
   "metadata": {
    "id": "0LeKFpEq7yIp"
   },
   "outputs": [],
   "source": [
    "# imports necesarios\n",
    "import traitlets\n",
    "import ipywidgets.widgets as widgets\n",
    "from IPython.display import display\n",
    "from jetbot import Camera, bgr8_to_jpeg\n",
    "\n",
    "camera = Camera.instance(width=224, height=224) # se instancia la cámara al tamaño establecido (224x224)\n",
    "\n",
    "image = widgets.Image(format='jpeg', width=224, height=224)  # formato jpeg de 224x224\n",
    "\n",
    "camera_link = traitlets.dlink((camera, 'value'), (image, 'value'), transform=bgr8_to_jpeg)\n"
   ]
  },
  {
   "cell_type": "markdown",
   "metadata": {
    "id": "eEk85CPo_ItN"
   },
   "source": [
    "Se desplega la cámara (en caso de querer ver su funcionamiento, nuevamente se mostrará más adelante)"
   ]
  },
  {
   "cell_type": "code",
   "execution_count": 2,
   "metadata": {
    "id": "XLQx0eMW_BHH"
   },
   "outputs": [
    {
     "data": {
      "application/vnd.jupyter.widget-view+json": {
       "model_id": "17efaf69bebd42088fb36d26682171aa",
       "version_major": 2,
       "version_minor": 0
      },
      "text/plain": [
       "Image(value=b'\\xff\\xd8\\xff\\xe0\\x00\\x10JFIF\\x00\\x01\\x01\\x00\\x00\\x01\\x00\\x01\\x00\\x00\\xff\\xdb\\x00C\\x00\\x02\\x01\\x0…"
      ]
     },
     "metadata": {},
     "output_type": "display_data"
    }
   ],
   "source": [
    "display(image)"
   ]
  },
  {
   "cell_type": "markdown",
   "metadata": {
    "id": "8Ivk7UpQAf_9"
   },
   "source": [
    "# Creación de las carpetas que conteneran las imagenes"
   ]
  },
  {
   "cell_type": "code",
   "execution_count": 3,
   "metadata": {
    "id": "4kgMz0uEA9mW"
   },
   "outputs": [
    {
     "name": "stdout",
     "output_type": "stream",
     "text": [
      "Las carpetas no fueron creadas, estas ya existen.\n"
     ]
    }
   ],
   "source": [
    "import os\n",
    "\n",
    "blocked_dir = 'dataset/blocked' # set de datos de imágenes con bloqueos para el robot\n",
    "free_dir = 'dataset/free' # set de datos de imágenes con panorama libre\n",
    "\n",
    "try: # intenta crear las carpetas, ya que si existen esto provocaría un error\n",
    "    os.makedirs(free_dir)\n",
    "    os.makedirs(blocked_dir)\n",
    "except FileExistsError: # en caso de fallo las carpetas ya existían\n",
    "    print('Las carpetas no fueron creadas, estas ya existen.')"
   ]
  },
  {
   "cell_type": "markdown",
   "metadata": {
    "id": "sC4_Syq-Bycg"
   },
   "source": [
    "# Creación de herramientas para la toma de imágenes\n",
    "---\n",
    "Una vez creados los directorios, se crearán los botones que facilitarán la obtención de las imágenes (uno para las de bloqueo y otro para las libre). \n",
    "Además, se crearán dos contadores con la cantidad de imágenes que se han tomado hasta el momento."
   ]
  },
  {
   "cell_type": "code",
   "execution_count": 4,
   "metadata": {
    "id": "hix4BipyByDc"
   },
   "outputs": [
    {
     "data": {
      "application/vnd.jupyter.widget-view+json": {
       "model_id": "4a8956b880cc453e8492c7248f092058",
       "version_major": 2,
       "version_minor": 0
      },
      "text/plain": [
       "HBox(children=(Button(button_style='success', description='Libre', layout=Layout(height='64px', width='100px')…"
      ]
     },
     "metadata": {},
     "output_type": "display_data"
    },
    {
     "data": {
      "application/vnd.jupyter.widget-view+json": {
       "model_id": "0a1c26b11ecf4d75831137a9ac078dc7",
       "version_major": 2,
       "version_minor": 0
      },
      "text/plain": [
       "HBox(children=(IntText(value=130, layout=Layout(height='64px', width='100px')),))"
      ]
     },
     "metadata": {},
     "output_type": "display_data"
    },
    {
     "data": {
      "application/vnd.jupyter.widget-view+json": {
       "model_id": "02c6ad44a0614ef7857059b8361119c5",
       "version_major": 2,
       "version_minor": 0
      },
      "text/plain": [
       "HBox(children=(Button(button_style='danger', description='Bloqueo', layout=Layout(height='64px', width='100px'…"
      ]
     },
     "metadata": {},
     "output_type": "display_data"
    },
    {
     "data": {
      "application/vnd.jupyter.widget-view+json": {
       "model_id": "efaa26ef4958474183992e245f3526d9",
       "version_major": 2,
       "version_minor": 0
      },
      "text/plain": [
       "HBox(children=(IntText(value=170, layout=Layout(height='64px', width='100px')),))"
      ]
     },
     "metadata": {},
     "output_type": "display_data"
    }
   ],
   "source": [
    "button_layout = widgets.Layout(width='100px', height='64px')\n",
    "\n",
    "# se crean los botones que permitirán la toma de fotos\n",
    "free_button = widgets.Button(description='Libre', button_style='success', layout=button_layout)\n",
    "blocked_button = widgets.Button(description='Bloqueo', button_style='danger', layout=button_layout)\n",
    "\n",
    "# se crean los contadores de archivos\n",
    "free_count = widgets.IntText(layout=button_layout, value=len(os.listdir(free_dir)))\n",
    "blocked_count = widgets.IntText(layout=button_layout, value=len(os.listdir(blocked_dir)))\n",
    "\n",
    "# se muestran los botones para agregar las imágenes con su respectivo contador\n",
    "display(widgets.HBox([free_button]))\n",
    "display(widgets.HBox([free_count]))\n",
    "display(widgets.HBox([blocked_button]))\n",
    "display(widgets.HBox([blocked_count]))"
   ]
  },
  {
   "cell_type": "markdown",
   "metadata": {
    "id": "orlCR1VPIJQc"
   },
   "source": [
    "Creación de las funciones que permitirán el guardado de la información, así como los agregar los listener a los botones\n",
    "\n",
    "Para asegurarnos de no repetir ningún nombre de archivo. Se usara el paquete 'uuid' en python, que define el método  para generar un identificador único. Este identificador único se genera a partir de información como la hora actual y la dirección de la máquina."
   ]
  },
  {
   "cell_type": "code",
   "execution_count": 5,
   "metadata": {
    "id": "kGtq5YESIJAL"
   },
   "outputs": [],
   "source": [
    "from uuid import uuid1\n",
    "\n",
    "def save_snapshot(directory):\n",
    "    image_path = os.path.join(directory, str(uuid1()) + '.jpg')\n",
    "    with open(image_path, 'wb') as f:\n",
    "        f.write(image.value)\n",
    "\n",
    "def save_free():\n",
    "    global free_dir, free_count\n",
    "    save_snapshot(free_dir)\n",
    "    free_count.value = len(os.listdir(free_dir))\n",
    "    \n",
    "def save_blocked():\n",
    "    global blocked_dir, blocked_count\n",
    "    save_snapshot(blocked_dir)\n",
    "    blocked_count.value = len(os.listdir(blocked_dir))\n",
    "    \n",
    "# se agregan los listeners\n",
    "free_button.on_click(lambda x: save_free())\n",
    "blocked_button.on_click(lambda x: save_blocked())"
   ]
  },
  {
   "cell_type": "markdown",
   "metadata": {
    "id": "cbp0ZpG8IwSq"
   },
   "source": [
    "A continuación se visualizarán las herramientas previamente creadas, en conjunto con la imagen que Anthony está capturando."
   ]
  },
  {
   "cell_type": "code",
   "execution_count": 6,
   "metadata": {
    "id": "GeRISt74I4NA"
   },
   "outputs": [
    {
     "data": {
      "application/vnd.jupyter.widget-view+json": {
       "model_id": "17efaf69bebd42088fb36d26682171aa",
       "version_major": 2,
       "version_minor": 0
      },
      "text/plain": [
       "Image(value=b'\\xff\\xd8\\xff\\xe0\\x00\\x10JFIF\\x00\\x01\\x01\\x00\\x00\\x01\\x00\\x01\\x00\\x00\\xff\\xdb\\x00C\\x00\\x02\\x01\\x0…"
      ]
     },
     "metadata": {},
     "output_type": "display_data"
    },
    {
     "data": {
      "application/vnd.jupyter.widget-view+json": {
       "model_id": "bc95542327dd4b4da064dc0b6bf5e600",
       "version_major": 2,
       "version_minor": 0
      },
      "text/plain": [
       "HBox(children=(Button(button_style='success', description='Libre', layout=Layout(height='64px', width='100px')…"
      ]
     },
     "metadata": {},
     "output_type": "display_data"
    },
    {
     "data": {
      "application/vnd.jupyter.widget-view+json": {
       "model_id": "2df7f5bc795c42898c9bc6e5df543c27",
       "version_major": 2,
       "version_minor": 0
      },
      "text/plain": [
       "HBox(children=(IntText(value=130, layout=Layout(height='64px', width='100px')),))"
      ]
     },
     "metadata": {},
     "output_type": "display_data"
    },
    {
     "data": {
      "application/vnd.jupyter.widget-view+json": {
       "model_id": "0c00d9a380164915b349ff6debd2af84",
       "version_major": 2,
       "version_minor": 0
      },
      "text/plain": [
       "HBox(children=(Button(button_style='danger', description='Bloqueo', layout=Layout(height='64px', width='100px'…"
      ]
     },
     "metadata": {},
     "output_type": "display_data"
    },
    {
     "data": {
      "application/vnd.jupyter.widget-view+json": {
       "model_id": "249c0d510923475fbeaee2e39d6da0a5",
       "version_major": 2,
       "version_minor": 0
      },
      "text/plain": [
       "HBox(children=(IntText(value=170, layout=Layout(height='64px', width='100px')),))"
      ]
     },
     "metadata": {},
     "output_type": "display_data"
    }
   ],
   "source": [
    "display(image)\n",
    "\n",
    "display(widgets.HBox([free_button]))\n",
    "display(widgets.HBox([free_count]))\n",
    "\n",
    "display(widgets.HBox([blocked_button]))\n",
    "display(widgets.HBox([blocked_count]))"
   ]
  },
  {
   "cell_type": "markdown",
   "metadata": {
    "id": "Wi7E_gp4JeUV"
   },
   "source": [
    "Si se quiere detener el uso de la cámara"
   ]
  },
  {
   "cell_type": "code",
   "execution_count": 7,
   "metadata": {
    "id": "jZTJKwM6JWgt"
   },
   "outputs": [],
   "source": [
    "camera.stop()"
   ]
  },
  {
   "cell_type": "markdown",
   "metadata": {
    "id": "8DrhR9_wJGps"
   },
   "source": [
    "# Comprimir dataset de imágenes en .zip\n"
   ]
  },
  {
   "cell_type": "code",
   "execution_count": null,
   "metadata": {
    "id": "KY_wqgGPJOrq"
   },
   "outputs": [],
   "source": [
    "!zip -r -q dataset.zip dataset"
   ]
  }
 ],
 "metadata": {
  "colab": {
   "authorship_tag": "ABX9TyPuidnBkdRj8bbzzYV9agV7",
   "collapsed_sections": [
    "edk9RETJ936_",
    "8Ivk7UpQAf_9",
    "sC4_Syq-Bycg",
    "8DrhR9_wJGps"
   ],
   "name": "data_collection.ipynb",
   "provenance": []
  },
  "kernelspec": {
   "display_name": "Python 3",
   "language": "python",
   "name": "python3"
  },
  "language_info": {
   "codemirror_mode": {
    "name": "ipython",
    "version": 3
   },
   "file_extension": ".py",
   "mimetype": "text/x-python",
   "name": "python",
   "nbconvert_exporter": "python",
   "pygments_lexer": "ipython3",
   "version": "3.6.9"
  }
 },
 "nbformat": 4,
 "nbformat_minor": 4
}
