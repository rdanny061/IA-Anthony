{
 "cells": [
  {
   "cell_type": "markdown",
   "metadata": {
    "id": "edk9RETJ936_"
   },
   "source": [
    "# Transmisión en vivo desde la cámara de Anthony\n",
    "---\n",
    "Se inicia la cámara y se visualiza en el notebook. Se requiere por temas de costo de recursos, minimizar el tamaño de las imágenes o moldear la cámara para que tome las fotos en un tamaño de 224x224."
   ]
  },
  {
   "cell_type": "code",
   "execution_count": null,
   "metadata": {
    "id": "0LeKFpEq7yIp"
   },
   "outputs": [],
   "source": [
    "# imports necesarios\n",
    "import traitlets\n",
    "import ipywidgets.widgets as widgets\n",
    "from IPython.display import display\n",
    "from jetbot import Camera, bgr8_to_jpeg\n",
    "\n",
    "camera = Camera.instance(width=224, height=224) # se instancia la cámara al tamaño establecido (224x224)\n",
    "\n",
    "image = widgets.Image(format='jpeg', width=224, height=224)  # formato jpeg de 224x224\n",
    "\n",
    "camera_link = traitlets.dlink((camera, 'value'), (image, 'value'), transform=bgr8_to_jpeg)\n"
   ]
  },
  {
   "cell_type": "markdown",
   "metadata": {
    "id": "sC4_Syq-Bycg"
   },
   "source": [
    "# Creación de herramientas para la toma de imágenes\n",
    "---\n",
    "Una vez creados los directorios, se crearán los botones que facilitarán la obtención de las imágenes (uno para las de bloqueo y otro para las libre). \n",
    "Además, se crearán dos contadores con la cantidad de imágenes que se han tomado hasta el momento."
   ]
  },
  {
   "cell_type": "code",
   "execution_count": null,
   "metadata": {},
   "outputs": [],
   "source": [
    "import os\n",
    "\n",
    "free_dir = 'dataset/555' # set de datos de imágenes con panorama libre\n",
    "\n",
    "try: # intenta crear las carpetas, ya que si existen esto provocaría un error\n",
    "    os.makedirs(free_dir)\n",
    "    print('se creó')\n",
    "except FileExistsError: # en caso de fallo las carpetas ya existían\n",
    "    print('Las carpetas no fueron creadas, estas ya existen.')"
   ]
  },
  {
   "cell_type": "code",
   "execution_count": null,
   "metadata": {
    "id": "hix4BipyByDc"
   },
   "outputs": [],
   "source": [
    "button_layout = widgets.Layout(width='100px', height='64px')\n",
    "\n",
    "# se crean los botones que permitirán la toma de fotos\n",
    "free_button = widgets.Button(description='Take', button_style='success', layout=button_layout)\n",
    "\n",
    "# se crean los contadores de archivos\n",
    "free_count = widgets.IntText(layout=button_layout, value=len(os.listdir(free_dir)))"
   ]
  },
  {
   "cell_type": "code",
   "execution_count": null,
   "metadata": {
    "id": "kGtq5YESIJAL"
   },
   "outputs": [],
   "source": [
    "from uuid import uuid1\n",
    "\n",
    "def save_snapshot(directory):\n",
    "    image_path = os.path.join(directory, str(uuid1()) + '.jpg')\n",
    "    with open(image_path, 'wb') as f:\n",
    "        f.write(image.value)\n",
    "\n",
    "def save_free():\n",
    "    global free_dir, free_count\n",
    "    save_snapshot(free_dir)\n",
    "    free_count.value = len(os.listdir(free_dir))\n",
    "    \n",
    "# se agregan los listeners\n",
    "free_button.on_click(lambda x: save_free())"
   ]
  },
  {
   "cell_type": "markdown",
   "metadata": {
    "id": "cbp0ZpG8IwSq"
   },
   "source": [
    "A continuación se visualizarán las herramientas previamente creadas, en conjunto con la imagen que Anthony está capturando."
   ]
  },
  {
   "cell_type": "code",
   "execution_count": null,
   "metadata": {
    "id": "GeRISt74I4NA"
   },
   "outputs": [],
   "source": [
    "display(image)\n",
    "\n",
    "display(widgets.HBox([free_button]))\n",
    "display(widgets.HBox([free_count]))"
   ]
  },
  {
   "cell_type": "code",
   "execution_count": null,
   "metadata": {
    "id": "jZTJKwM6JWgt"
   },
   "outputs": [],
   "source": []
  },
  {
   "cell_type": "code",
   "execution_count": 5,
   "metadata": {
    "id": "KY_wqgGPJOrq"
   },
   "outputs": [
    {
     "name": "stdout",
     "output_type": "stream",
     "text": [
      "114\n"
     ]
    }
   ],
   "source": [
    "dirx = 'dataset/5'\n",
    "print(len(os.listdir(dirx)))"
   ]
  },
  {
   "cell_type": "code",
   "execution_count": null,
   "metadata": {},
   "outputs": [],
   "source": [
    "camera.restart()"
   ]
  }
 ],
 "metadata": {
  "colab": {
   "authorship_tag": "ABX9TyPuidnBkdRj8bbzzYV9agV7",
   "collapsed_sections": [
    "edk9RETJ936_",
    "8Ivk7UpQAf_9",
    "sC4_Syq-Bycg",
    "8DrhR9_wJGps"
   ],
   "name": "data_collection.ipynb",
   "provenance": []
  },
  "kernelspec": {
   "display_name": "Python 3",
   "language": "python",
   "name": "python3"
  },
  "language_info": {
   "codemirror_mode": {
    "name": "ipython",
    "version": 3
   },
   "file_extension": ".py",
   "mimetype": "text/x-python",
   "name": "python",
   "nbconvert_exporter": "python",
   "pygments_lexer": "ipython3",
   "version": "3.6.9"
  }
 },
 "nbformat": 4,
 "nbformat_minor": 4
}
